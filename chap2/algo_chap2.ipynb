{
  "nbformat": 4,
  "nbformat_minor": 0,
  "metadata": {
    "colab": {
      "name": "はじぱた.ipynb",
      "provenance": [],
      "collapsed_sections": []
    },
    "kernelspec": {
      "name": "python3",
      "display_name": "Python 3"
    }
  },
  "cells": [
    {
      "cell_type": "code",
      "metadata": {
        "id": "zU8oXGjshFjP",
        "colab_type": "code",
        "colab": {}
      },
      "source": [
        "import numpy as np\n",
        "%matplotlib inline\n",
        "import matplotlib.pyplot as plt\n",
        "np.random.seed(0)\n",
        "from statistics import mean"
      ],
      "execution_count": 0,
      "outputs": []
    },
    {
      "cell_type": "markdown",
      "metadata": {
        "id": "x8buFpCZpHxN",
        "colab_type": "text"
      },
      "source": [
        "今回はアルゴリズムの評価が中心の章なので,学習アルゴリズム実装は後に回し、sklearnを学習アルゴリズムとして使用する。"
      ]
    },
    {
      "cell_type": "code",
      "metadata": {
        "id": "afwHFBQspYwV",
        "colab_type": "code",
        "colab": {}
      },
      "source": [
        "import sklearn"
      ],
      "execution_count": 0,
      "outputs": []
    },
    {
      "cell_type": "markdown",
      "metadata": {
        "id": "3DXxanUWrZLR",
        "colab_type": "text"
      },
      "source": [
        "今回、学習に使うデータはsin関数に正規分布$N(\\varepsilon|0,0.05)$ノイズ項を加えたデータを使う"
      ]
    },
    {
      "cell_type": "code",
      "metadata": {
        "id": "w9qitzg_td9D",
        "colab_type": "code",
        "colab": {}
      },
      "source": [
        "size = 100\n",
        "max_degree = 11\n",
        "x_data = np.random.rand(size) * np.pi * 2\n",
        "var_data = np.random.normal(loc=0,scale=0.1,size=size)\n",
        "sin_data = np.sin(x_data) + var_data"
      ],
      "execution_count": 0,
      "outputs": []
    },
    {
      "cell_type": "code",
      "metadata": {
        "id": "9JwIOkNav8lF",
        "colab_type": "code",
        "outputId": "b2f28b75-fdc4-407b-c4b5-4f81fa2e5af5",
        "colab": {
          "base_uri": "https://localhost:8080/",
          "height": 282
        }
      },
      "source": [
        "plt.ylim(-1.2,1.2)\n",
        "plt.scatter(x_data,sin_data)"
      ],
      "execution_count": 0,
      "outputs": [
        {
          "output_type": "execute_result",
          "data": {
            "text/plain": [
              "<matplotlib.collections.PathCollection at 0x7f979420c860>"
            ]
          },
          "metadata": {
            "tags": []
          },
          "execution_count": 111
        },
        {
          "output_type": "display_data",
          "data": {
            "image/png": "[encoded data removed]",
            "text/plain": [
              "<Figure size 432x288 with 1 Axes>"
            ]
          },
          "metadata": {
            "tags": []
          }
        }
      ]
    },
    {
      "cell_type": "markdown",
      "metadata": {
        "id": "KJXHwwOgtfF4",
        "colab_type": "text"
      },
      "source": [
        "\n",
        "学習用のアルゴリズムは多項式回帰を使います。"
      ]
    },
    {
      "cell_type": "code",
      "metadata": {
        "id": "t4qyLuoQtecI",
        "colab_type": "code",
        "colab": {}
      },
      "source": [
        "from sklearn.preprocessing import PolynomialFeatures\n",
        "from sklearn.linear_model import LinearRegression\n",
        "from sklearn.pipeline import Pipeline"
      ],
      "execution_count": 0,
      "outputs": []
    },
    {
      "cell_type": "markdown",
      "metadata": {
        "id": "Pe_xlO-vDTv_",
        "colab_type": "text"
      },
      "source": [
        "2.2.2:**MSE**:近似の良さの評価手法。\n",
        "\n",
        "$$MSE=\\int (y(x;D) - h(x))^2p(x)dx=E\\{(y(x;D)-h(x))^2\\}$$"
      ]
    },
    {
      "cell_type": "code",
      "metadata": {
        "id": "DXf_GKnqDS30",
        "colab_type": "code",
        "colab": {}
      },
      "source": [
        "def MSE(y,t):\n",
        "  return np.sum(np.square(y-t))/y.size"
      ],
      "execution_count": 0,
      "outputs": []
    },
    {
      "cell_type": "code",
      "metadata": {
        "id": "ZVYGA_lpR4PT",
        "colab_type": "code",
        "outputId": "2f41e964-3039-4250-c912-bcc1636e3d39",
        "colab": {
          "base_uri": "https://localhost:8080/",
          "height": 35
        }
      },
      "source": [
        "MSE(np.array([10,3,3]),np.array([1,2,3]))"
      ],
      "execution_count": 0,
      "outputs": [
        {
          "output_type": "execute_result",
          "data": {
            "text/plain": [
              "27.333333333333332"
            ]
          },
          "metadata": {
            "tags": []
          },
          "execution_count": 123
        }
      ]
    },
    {
      "cell_type": "markdown",
      "metadata": {
        "id": "WLknxmh7nUpV",
        "colab_type": "text"
      },
      "source": [
        "2.2.1 (1)**ホールドアウト法**:\n",
        "手元のデータを2つに分割し、片方をトレーニングに使い、片方をテストに使う手法。\n",
        "テストデータの数が必要"
      ]
    },
    {
      "cell_type": "code",
      "metadata": {
        "id": "efYwVXAEoS47",
        "colab_type": "code",
        "outputId": "91cfd975-3c2d-466f-eac3-3ef06219894b",
        "colab": {
          "base_uri": "https://localhost:8080/",
          "height": 52
        }
      },
      "source": [
        "%%time\n",
        "def holdout_method(x,y,per=0.8,value_func=MSE,degree=11):\n",
        "  index = np.random.permutation(x.size)\n",
        "  index_train,index_test = np.split(index,[int(x.size*per)])\n",
        "  #plt.scatter(x_data[index_train],sin_data[index_train])\n",
        "  test_score_list = []\n",
        "  train_score_list = []\n",
        "  for i in range(1,degree):\n",
        "    pf = PolynomialFeatures(degree=i, include_bias=False)\n",
        "    lr = LinearRegression()\n",
        "    pl = Pipeline([(\"PF\", pf), (\"LR\", lr)])\n",
        "    pl.fit(x[index_train].reshape(-1,1), y[index_train])\n",
        "\n",
        "    pred_y_test = pl.predict(x[index_test].reshape(-1,1))\n",
        "    pred_y_train = pl.predict(x[index_train].reshape(-1,1))\n",
        "    score_train = value_func(pred_y_train,y[index_train])\n",
        "    score_test = value_func(pred_y_test,y[index_test])\n",
        "    train_score_list.append(score_train)\n",
        "    test_score_list.append(score_test)\n",
        "\n",
        "  return train_score_list,test_score_list"
      ],
      "execution_count": 0,
      "outputs": [
        {
          "output_type": "stream",
          "text": [
            "CPU times: user 11 µs, sys: 0 ns, total: 11 µs\n",
            "Wall time: 15 µs\n"
          ],
          "name": "stdout"
        }
      ]
    },
    {
      "cell_type": "code",
      "metadata": {
        "id": "vuWyhQp3LOqW",
        "colab_type": "code",
        "outputId": "14ce2f29-651c-4a27-d3d4-fdadbfbb6ff5",
        "colab": {
          "base_uri": "https://localhost:8080/",
          "height": 282
        }
      },
      "source": [
        "hold_train_score_list,hold_test_score_list = holdout_method(x_data,sin_data,degree=max_degree)\n",
        "plt.plot(np.array(range(1,max_degree)),np.array(hold_train_score_list),color='b')\n",
        "plt.plot(np.array(range(1,max_degree)),np.array(hold_test_score_list),color='r')"
      ],
      "execution_count": 0,
      "outputs": [
        {
          "output_type": "execute_result",
          "data": {
            "text/plain": [
              "[<matplotlib.lines.Line2D at 0x7f9794236128>]"
            ]
          },
          "metadata": {
            "tags": []
          },
          "execution_count": 114
        },
        {
          "output_type": "display_data",
          "data": {
            "image/png": "[encoded data removed]",
            "text/plain": [
              "<Figure size 432x288 with 1 Axes>"
            ]
          },
          "metadata": {
            "tags": []
          }
        }
      ]
    },
    {
      "cell_type": "markdown",
      "metadata": {
        "id": "aCBHmr_o5Fpd",
        "colab_type": "text"
      },
      "source": [
        "(2)**交差確認法**:手元の各クラスをn分割して、n-1のグループで学習して、残りの１つのグループのデータでテストをし、その平均を誤り率とした性能評価を行う。"
      ]
    },
    {
      "cell_type": "code",
      "metadata": {
        "id": "_iz_4m5f48ox",
        "colab_type": "code",
        "colab": {}
      },
      "source": [
        "def cross_validation(x,y,value_func=MSE,split_num=5,degree=1):\n",
        "  assert x.size % split_num==0,\"You must use divisible number\"\n",
        "  n = x.size / split_num\n",
        "  train_scores =[]\n",
        "  test_scores =[]\n",
        "  for i in range(split_num):\n",
        "    indices = [int(i*n),int(i*n+n)]\n",
        "    train_x_1,test_x,train_x_2=np.split(x,indices)\n",
        "    train_y_1,test_y,train_y_2=np.split(y,indices)\n",
        "\n",
        "    train_x = np.concatenate([train_x_1,train_x_2])\n",
        "    train_y = np.concatenate([train_y_1,train_y_2])\n",
        "    \n",
        "    pf = PolynomialFeatures(degree=degree, include_bias=False)\n",
        "    lr = LinearRegression()\n",
        "    pl = Pipeline([(\"PF\", pf), (\"LR\", lr)])\n",
        "    pl.fit(train_x.reshape(-1,1), train_y)\n",
        "\n",
        "    pred_y_test = pl.predict(np.array(test_x).reshape(-1,1))\n",
        "    pred_y_train = pl.predict(np.array(train_x).reshape(-1,1))\n",
        "\n",
        "    score_train = value_func(pred_y_train,train_y)\n",
        "    #print(score_train)\n",
        "    score_test = value_func(pred_y_test,test_y)\n",
        "    #print(len(test_y))\n",
        "    train_scores.append(score_train)\n",
        "    test_scores.append(score_test)\n",
        "\n",
        "  return mean(train_scores),mean(test_scores)"
      ],
      "execution_count": 0,
      "outputs": []
    },
    {
      "cell_type": "code",
      "metadata": {
        "id": "tYybB58UlhgR",
        "colab_type": "code",
        "outputId": "e89c7fea-6243-498f-d345-67a755af7772",
        "colab": {
          "base_uri": "https://localhost:8080/",
          "height": 282
        }
      },
      "source": [
        "cross_test_score_list = []\n",
        "cross_train_score_list = []\n",
        "for i in range(1,max_degree):\n",
        "  tra,tes = cross_validation(x_data,sin_data,degree=i)\n",
        "  cross_train_score_list.append(tra)\n",
        "  cross_test_score_list.append(tes)\n",
        "plt.plot(np.array(range(1,max_degree)),np.array(cross_train_score_list),color='b')\n",
        "plt.plot(np.array(range(1,max_degree)),np.array(cross_test_score_list),color='r')"
      ],
      "execution_count": 0,
      "outputs": [
        {
          "output_type": "execute_result",
          "data": {
            "text/plain": [
              "[<matplotlib.lines.Line2D at 0x7f9794247e48>]"
            ]
          },
          "metadata": {
            "tags": []
          },
          "execution_count": 116
        },
        {
          "output_type": "display_data",
          "data": {
            "image/png": "[encoded data removed]",
            "text/plain": [
              "<Figure size 432x288 with 1 Axes>"
            ]
          },
          "metadata": {
            "tags": []
          }
        }
      ]
    },
    {
      "cell_type": "markdown",
      "metadata": {
        "id": "M3zr-OsK6vUk",
        "colab_type": "text"
      },
      "source": [
        "(3)**一つ抜き法**:交差確認法の特別な場合で、データ数＝グループの数としたものである。"
      ]
    },
    {
      "cell_type": "code",
      "metadata": {
        "id": "r5oFd8dN5BWN",
        "colab_type": "code",
        "colab": {}
      },
      "source": [
        "def leave_one_out(x,y,value_func=MSE,size=size,degree=1):\n",
        "  return cross_validation(x,y,value_func,split_num=size,degree=degree)"
      ],
      "execution_count": 0,
      "outputs": []
    },
    {
      "cell_type": "code",
      "metadata": {
        "id": "P_NBcoykyOvL",
        "colab_type": "code",
        "outputId": "e932532e-4ff4-4720-dc0a-9c598eeb153f",
        "colab": {
          "base_uri": "https://localhost:8080/",
          "height": 282
        }
      },
      "source": [
        "leave_test_score_list = []\n",
        "leave_train_score_list = []\n",
        "for i in range(1,max_degree):\n",
        "  tra,tes = leave_one_out(x_data,sin_data,degree=i)\n",
        "  leave_train_score_list.append(tra)\n",
        "  leave_test_score_list.append(tes)\n",
        "plt.plot(np.array(range(1,max_degree)),np.array(leave_train_score_list),color='b')\n",
        "plt.plot(np.array(range(1,max_degree)),np.array(leave_test_score_list),color='r')"
      ],
      "execution_count": 0,
      "outputs": [
        {
          "output_type": "execute_result",
          "data": {
            "text/plain": [
              "[<matplotlib.lines.Line2D at 0x7f97941a86a0>]"
            ]
          },
          "metadata": {
            "tags": []
          },
          "execution_count": 118
        },
        {
          "output_type": "display_data",
          "data": {
            "image/png": "[encoded data removed]",
            "text/plain": [
              "<Figure size 432x288 with 1 Axes>"
            ]
          },
          "metadata": {
            "tags": []
          }
        }
      ]
    },
    {
      "cell_type": "code",
      "metadata": {
        "id": "MfMN1SM_0cjh",
        "colab_type": "code",
        "outputId": "2f8d9b53-37a1-4ab0-dd2c-10e325413130",
        "colab": {
          "base_uri": "https://localhost:8080/",
          "height": 282
        }
      },
      "source": [
        "plt.plot(np.array(range(1,max_degree)),np.array(hold_train_score_list),color='y')\n",
        "plt.plot(np.array(range(1,max_degree)),np.array(hold_test_score_list),color='m')\n",
        "\n",
        "plt.plot(np.array(range(1,max_degree)),np.array(cross_train_score_list),color='k')\n",
        "plt.plot(np.array(range(1,max_degree)),np.array(cross_test_score_list),color='c')\n",
        "\n",
        "plt.plot(np.array(range(1,max_degree)),np.array(leave_train_score_list),color='b')\n",
        "plt.plot(np.array(range(1,max_degree)),np.array(leave_test_score_list),color='r')"
      ],
      "execution_count": 0,
      "outputs": [
        {
          "output_type": "execute_result",
          "data": {
            "text/plain": [
              "[<matplotlib.lines.Line2D at 0x7f979408cf60>]"
            ]
          },
          "metadata": {
            "tags": []
          },
          "execution_count": 119
        },
        {
          "output_type": "display_data",
          "data": {
            "image/png": "[encoded data removed]",
            "text/plain": [
              "<Figure size 432x288 with 1 Axes>"
            ]
          },
          "metadata": {
            "tags": []
          }
        }
      ]
    },
    {
      "cell_type": "markdown",
      "metadata": {
        "id": "AcQKagJbCFnv",
        "colab_type": "text"
      },
      "source": [
        "(4)**ブートストラップ法**:N個の復元抽出をしてブートストラップサンプルを作り、そこから\n",
        "\n",
        "$bias=\\varepsilon(N^*,N^*)-N(N^*,N)$\n",
        "を推定して、それをいくつか計算してその平均でバイアスを推定する。\n",
        "その推定値を$\\overline{bias}$として、その推定値を\n",
        "\n",
        "$\\varepsilon = \\varepsilon(N,N)-\\overline{bias}$\n",
        "とする。"
      ]
    },
    {
      "cell_type": "code",
      "metadata": {
        "id": "dSu3P_fzCCVB",
        "colab_type": "code",
        "colab": {}
      },
      "source": [
        "def bootstrap(x,y,value_func=MSE,trial=50,degree=1):\n",
        "  biases=[]\n",
        "  for i in range(trial):\n",
        "    boot_ind = np.random.choice(range(x.size),size=x.size,replace=True)\n",
        "    pf = PolynomialFeatures(degree=degree, include_bias=False)\n",
        "    lr = LinearRegression()\n",
        "    pl = Pipeline([(\"PF\", pf), (\"LR\", lr)])\n",
        "    pl.fit(x[boot_ind].reshape(-1,1), y[boot_ind])\n",
        "\n",
        "    pred_y_boot = pl.predict(x[boot_ind].reshape(-1,1))\n",
        "    pred_y_base = pl.predict(x.reshape(-1,1))\n",
        "\n",
        "    score_boot = value_func(pred_y_boot,y[boot_ind])\n",
        "    #print(score_train)\n",
        "    score_base = value_func(pred_y_base,y)\n",
        "    bias = score_base - score_boot\n",
        "    #print(bias)\n",
        "    biases.append(bias)\n",
        "\n",
        "  pf = PolynomialFeatures(degree=degree, include_bias=False)\n",
        "  lr = LinearRegression()\n",
        "  pl = Pipeline([(\"PF\", pf), (\"LR\", lr)])\n",
        "  pl.fit(x.reshape(-1,1), y)\n",
        "\n",
        "  pred_y_base = pl.predict(x.reshape(-1,1))\n",
        "  score_base = value_func(pred_y_base,y)\n",
        "  return score_base + mean(biases)"
      ],
      "execution_count": 0,
      "outputs": []
    },
    {
      "cell_type": "code",
      "metadata": {
        "id": "t2-ylH0gjjh4",
        "colab_type": "code",
        "outputId": "362a7bc4-c7aa-4adf-939c-3fedd8687def",
        "colab": {
          "base_uri": "https://localhost:8080/",
          "height": 282
        }
      },
      "source": [
        "boot_score_list = []\n",
        "for i in range(1,max_degree):\n",
        "  boot_score = bootstrap(x_data,sin_data,degree=i)\n",
        "  boot_score_list.append(boot_score)\n",
        "plt.plot(np.array(range(1,max_degree)),np.array(boot_score_list),color='b')"
      ],
      "execution_count": 0,
      "outputs": [
        {
          "output_type": "execute_result",
          "data": {
            "text/plain": [
              "[<matplotlib.lines.Line2D at 0x7f97940785c0>]"
            ]
          },
          "metadata": {
            "tags": []
          },
          "execution_count": 121
        },
        {
          "output_type": "display_data",
          "data": {
            "image/png": "[encoded data removed]",
            "text/plain": [
              "<Figure size 432x288 with 1 Axes>"
            ]
          },
          "metadata": {
            "tags": []
          }
        }
      ]
    }
  ]
}