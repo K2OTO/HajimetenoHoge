{
 "cells": [
  {
   "cell_type": "markdown",
   "metadata": {
    "id": "_q7nSwrUtkK5"
   },
   "source": [
    "初めてのパターン認識のKNN法をsklearnを使用して実装している\n",
    "\n",
    "[sklearn.neighbors.KNeighborsClassifierのドキュメント](https://scikit-learn.org/stable/modules/generated/sklearn.neighbors.KNeighborsClassifier.html)\n",
    "\n",
    "実装した内容は以下の記事に沿っている\n",
    "\n",
    "[k-近傍法をpythonのsklearnで実装してみる](https://qiita.com/renesisu727/items/e5191a97d3f16a14ebd0)\n"
   ]
  },
  {
   "cell_type": "code",
   "execution_count": 22,
   "metadata": {
    "colab": {
     "base_uri": "https://localhost:8080/",
     "height": 969
    },
    "id": "xuAAvxE2qOqw",
    "outputId": "c35eb7e3-a3a5-4f67-d10a-25faa65dee6c"
   },
   "outputs": [
    {
     "name": "stdout",
     "output_type": "stream",
     "text": [
      "     sepal length (cm)  sepal width (cm)  petal length (cm)  petal width (cm)\n",
      "0                  5.1               3.5                1.4               0.2\n",
      "1                  4.9               3.0                1.4               0.2\n",
      "2                  4.7               3.2                1.3               0.2\n",
      "3                  4.6               3.1                1.5               0.2\n",
      "4                  5.0               3.6                1.4               0.2\n",
      "..                 ...               ...                ...               ...\n",
      "145                6.7               3.0                5.2               2.3\n",
      "146                6.3               2.5                5.0               1.9\n",
      "147                6.5               3.0                5.2               2.0\n",
      "148                6.2               3.4                5.4               2.3\n",
      "149                5.9               3.0                5.1               1.8\n",
      "\n",
      "[150 rows x 4 columns]\n",
      "     Species\n",
      "0          0\n",
      "1          0\n",
      "2          0\n",
      "3          0\n",
      "4          0\n",
      "..       ...\n",
      "145        2\n",
      "146        2\n",
      "147        2\n",
      "148        2\n",
      "149        2\n",
      "\n",
      "[150 rows x 1 columns]\n",
      "     sepal length (cm)  sepal width (cm)  petal length (cm)  petal width (cm)\n",
      "130                7.4               2.8                6.1               1.9\n",
      "48                 5.3               3.7                1.5               0.2\n",
      "131                7.9               3.8                6.4               2.0\n",
      "117                7.7               3.8                6.7               2.2\n",
      "141                6.9               3.1                5.1               2.3\n",
      "..                 ...               ...                ...               ...\n",
      "138                6.0               3.0                4.8               1.8\n",
      "101                5.8               2.7                5.1               1.9\n",
      "121                5.6               2.8                4.9               2.0\n",
      "54                 6.5               2.8                4.6               1.5\n",
      "68                 6.2               2.2                4.5               1.5\n",
      "\n",
      "[112 rows x 4 columns]\n",
      "     Species\n",
      "130        2\n",
      "48         0\n",
      "131        2\n",
      "117        2\n",
      "141        2\n",
      "..       ...\n",
      "138        2\n",
      "101        2\n",
      "121        2\n",
      "54         1\n",
      "68         1\n",
      "\n",
      "[112 rows x 1 columns]\n"
     ]
    }
   ],
   "source": [
    "from sklearn.datasets import load_iris\n",
    "import pandas as pd\n",
    "from sklearn.model_selection import train_test_split\n",
    "from sklearn import metrics\n",
    "import matplotlib.pyplot as plt\n",
    "from sklearn.neighbors import KNeighborsClassifier\n",
    "\n",
    "iris = load_iris()\n",
    "iris_target_data = pd.DataFrame(iris.target, columns=['Species'])\n",
    "iris_df = pd.DataFrame(iris.data, columns=iris.feature_names)\n",
    "\n",
    "X_train, X_test, Y_train, Y_test = train_test_split(iris_df, iris_target_data)\n",
    "print(iris_df)\n",
    "print(iris_target_data)\n",
    "# Xのテストデータを覗いてみる\n",
    "print(X_train)\n",
    "# それに対してYのテストデータを覗いてみる\n",
    "print(Y_train)"
   ]
  },
  {
   "cell_type": "markdown",
   "metadata": {
    "id": "enl9iNTarNih"
   },
   "source": [
    "出力が省略されているが、iris(あやめ)のデータセットを読み込んで出力している。\n",
    "\n",
    "次にk-近傍法のモデルを作成していく\n"
   ]
  },
  {
   "cell_type": "code",
   "execution_count": 23,
   "metadata": {
    "colab": {
     "base_uri": "https://localhost:8080/",
     "height": 122
    },
    "id": "x3xlGFsorVll",
    "outputId": "92d85965-1707-46ff-8a31-aca5e7bbc34b"
   },
   "outputs": [
    {
     "data": {
      "text/plain": [
       "KNeighborsClassifier(n_neighbors=6)"
      ]
     },
     "execution_count": 23,
     "metadata": {},
     "output_type": "execute_result"
    }
   ],
   "source": [
    "knn = KNeighborsClassifier(n_neighbors=6)\n",
    "knn.fit(X_train, np.ravel(Y_train))"
   ]
  },
  {
   "cell_type": "markdown",
   "metadata": {
    "id": "mof6oNJ1ruEg"
   },
   "source": [
    "精度を評価する"
   ]
  },
  {
   "cell_type": "code",
   "execution_count": 24,
   "metadata": {
    "colab": {
     "base_uri": "https://localhost:8080/",
     "height": 34
    },
    "id": "IuEiNYfBrvvB",
    "outputId": "703dc7e1-c250-43f7-8802-21ced3056375"
   },
   "outputs": [
    {
     "name": "stdout",
     "output_type": "stream",
     "text": [
      "0.9222222222222222\n"
     ]
    }
   ],
   "source": [
    "Y_pred = knn.predict(X_test)\n",
    "print(metrics.balanced_accuracy_score(Y_test,Y_pred))"
   ]
  },
  {
   "cell_type": "markdown",
   "metadata": {
    "id": "Zy2LGmOYsAdn"
   },
   "source": [
    "近傍とするデータの数を変更していき精度がどのくらい変化するか図示していく。\n"
   ]
  },
  {
   "cell_type": "code",
   "execution_count": 25,
   "metadata": {
    "colab": {
     "base_uri": "https://localhost:8080/",
     "height": 1000
    },
    "id": "vCFr5BhKsJjb",
    "outputId": "9ece0498-16f5-43e8-ba91-7914b03aaeac"
   },
   "outputs": [
    {
     "data": {
      "image/png": "[encoded data removed]",
      "text/plain": [
       "<Figure size 432x288 with 1 Axes>"
      ]
     },
     "metadata": {
      "needs_background": "light"
     },
     "output_type": "display_data"
    }
   ],
   "source": [
    "accuracy_list = []\n",
    "k_range = range(1, 100)\n",
    "for k in k_range:\n",
    "    # 近傍k個とする\n",
    "    knn = KNeighborsClassifier(n_neighbors=k)\n",
    "    # データにfitさせる、学習 \n",
    "    knn.fit(X_train, np.ravel(Y_train))\n",
    "    # Xのテストデータに対してYを予測させる\n",
    "    Y_pred = knn.predict(X_test)\n",
    "    # 精度をリストに保存する\n",
    "    accuracy_list.append(metrics.accuracy_score(Y_test, np.ravel(Y_pred)))\n",
    "\n",
    "figure = plt.figure()\n",
    "ax = figure.add_subplot(111)\n",
    "ax.plot(k_range, accuracy_list)\n",
    "ax.set_xlabel('k-nn')\n",
    "ax.set_ylabel('accuracy')\n",
    "plt.show()"
   ]
  }
 ],
 "metadata": {
  "colab": {
   "collapsed_sections": [],
   "name": "hajipata5-knn.ipynb",
   "provenance": []
  },
  "kernelspec": {
   "display_name": "Python 3",
   "language": "python",
   "name": "python3"
  },
  "language_info": {
   "codemirror_mode": {
    "name": "ipython",
    "version": 3
   },
   "file_extension": ".py",
   "mimetype": "text/x-python",
   "name": "python",
   "nbconvert_exporter": "python",
   "pygments_lexer": "ipython3",
   "version": "3.7.4+"
  }
 },
 "nbformat": 4,
 "nbformat_minor": 1
}
